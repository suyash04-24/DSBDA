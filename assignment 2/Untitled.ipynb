{
 "cells": [
  {
   "cell_type": "markdown",
   "id": "d76bc5db-9aad-4816-946d-63e1cff097e2",
   "metadata": {},
   "source": [
    "#### ASSIGNMENT - 2"
   ]
  },
  {
   "cell_type": "code",
   "execution_count": 2,
   "id": "3463ead2-111c-44e1-b474-ec55a08f83ed",
   "metadata": {},
   "outputs": [],
   "source": [
    "#import required libraries\n",
    "import pandas as pd\n",
    "import numpy as np\n",
    "import seaborn as sns\n",
    "import matplotlib.pyplot as plt\n",
    "from sklearn.preprocessing import PowerTransformer"
   ]
  },
  {
   "cell_type": "code",
   "execution_count": 3,
   "id": "4ae8d4af-e44c-47bd-8410-2f7e68ecbfea",
   "metadata": {},
   "outputs": [],
   "source": [
    "# Load the dataset\n",
    "file_path = \"academics.csv\" \n",
    "data = pd.read_csv(file_path)\n"
   ]
  },
  {
   "cell_type": "code",
   "execution_count": 4,
   "id": "ffb46a20-223a-4028-a786-d97c78a134d0",
   "metadata": {},
   "outputs": [
    {
     "name": "stdout",
     "output_type": "stream",
     "text": [
      "  gender NationalITy PlaceofBirth     StageID GradeID SectionID Topic  \\\n",
      "0      M          KW       KuwaIT  lowerlevel    G-04         A    IT   \n",
      "1      M          KW       KuwaIT  lowerlevel    G-04         A    IT   \n",
      "2      M          KW       KuwaIT  lowerlevel    G-04         A    IT   \n",
      "3      M          KW       KuwaIT  lowerlevel    G-04         A    IT   \n",
      "4      M          KW       KuwaIT  lowerlevel    G-04         A    IT   \n",
      "\n",
      "  Semester Relation  raisedhands  VisITedResources  AnnouncementsView  \\\n",
      "0        F   Father           15                16                  2   \n",
      "1        F   Father           20                20                  3   \n",
      "2        F   Father           10                 7                  0   \n",
      "3        F   Father           30                25                  5   \n",
      "4        F   Father           40                50                 12   \n",
      "\n",
      "   Discussion ParentAnsweringSurvey ParentschoolSatisfaction  \\\n",
      "0          20                   Yes                     Good   \n",
      "1          25                   Yes                     Good   \n",
      "2          30                    No                      Bad   \n",
      "3          35                    No                      Bad   \n",
      "4          50                    No                      Bad   \n",
      "\n",
      "  StudentAbsenceDays Class  \n",
      "0            Under-7     M  \n",
      "1            Under-7     M  \n",
      "2            Above-7     L  \n",
      "3            Above-7     L  \n",
      "4            Above-7     M  \n"
     ]
    }
   ],
   "source": [
    "# Check the first few rows\n",
    "print(data.head())\n"
   ]
  },
  {
   "cell_type": "code",
   "execution_count": 5,
   "id": "2dd3db83-dbe2-4ad1-a226-932421499632",
   "metadata": {},
   "outputs": [
    {
     "name": "stdout",
     "output_type": "stream",
     "text": [
      "<class 'pandas.core.frame.DataFrame'>\n",
      "RangeIndex: 480 entries, 0 to 479\n",
      "Data columns (total 17 columns):\n",
      " #   Column                    Non-Null Count  Dtype \n",
      "---  ------                    --------------  ----- \n",
      " 0   gender                    480 non-null    object\n",
      " 1   NationalITy               480 non-null    object\n",
      " 2   PlaceofBirth              480 non-null    object\n",
      " 3   StageID                   480 non-null    object\n",
      " 4   GradeID                   480 non-null    object\n",
      " 5   SectionID                 480 non-null    object\n",
      " 6   Topic                     480 non-null    object\n",
      " 7   Semester                  480 non-null    object\n",
      " 8   Relation                  480 non-null    object\n",
      " 9   raisedhands               480 non-null    int64 \n",
      " 10  VisITedResources          480 non-null    int64 \n",
      " 11  AnnouncementsView         480 non-null    int64 \n",
      " 12  Discussion                480 non-null    int64 \n",
      " 13  ParentAnsweringSurvey     480 non-null    object\n",
      " 14  ParentschoolSatisfaction  480 non-null    object\n",
      " 15  StudentAbsenceDays        480 non-null    object\n",
      " 16  Class                     480 non-null    object\n",
      "dtypes: int64(4), object(13)\n",
      "memory usage: 63.9+ KB\n",
      "None\n"
     ]
    }
   ],
   "source": [
    "# Display data information\n",
    "print(data.info())\n"
   ]
  },
  {
   "cell_type": "code",
   "execution_count": 6,
   "id": "e5dc51e6-2dbd-4945-ab32-a99aa2bc48f6",
   "metadata": {},
   "outputs": [
    {
     "data": {
      "text/plain": [
       "gender                      0\n",
       "NationalITy                 0\n",
       "PlaceofBirth                0\n",
       "StageID                     0\n",
       "GradeID                     0\n",
       "SectionID                   0\n",
       "Topic                       0\n",
       "Semester                    0\n",
       "Relation                    0\n",
       "raisedhands                 0\n",
       "VisITedResources            0\n",
       "AnnouncementsView           0\n",
       "Discussion                  0\n",
       "ParentAnsweringSurvey       0\n",
       "ParentschoolSatisfaction    0\n",
       "StudentAbsenceDays          0\n",
       "Class                       0\n",
       "dtype: int64"
      ]
     },
     "execution_count": 6,
     "metadata": {},
     "output_type": "execute_result"
    }
   ],
   "source": [
    "# Check for missing values\n",
    "data.isnull().sum()\n"
   ]
  },
  {
   "cell_type": "code",
   "execution_count": 11,
   "id": "44b109a8-721f-4961-80a9-145d6fe4aa69",
   "metadata": {},
   "outputs": [],
   "source": [
    "# Fill missing values in 'raisedhands' with mean\n",
    "data['raisedhands'] = data['raisedhands'].fillna(data['raisedhands'].mean())\n"
   ]
  },
  {
   "cell_type": "code",
   "execution_count": 13,
   "id": "59159b0c-04a5-4ea5-b446-9d5e7a5fe3d1",
   "metadata": {},
   "outputs": [],
   "source": [
    "# Fill missing values in 'gender' with mode\n",
    "data['gender'] = data['gender'].fillna(data['gender'].mode()[0])\n"
   ]
  },
  {
   "cell_type": "code",
   "execution_count": 14,
   "id": "238425b2-b540-4330-885f-b55413dff647",
   "metadata": {},
   "outputs": [
    {
     "data": {
      "text/plain": [
       "gender                      0\n",
       "NationalITy                 0\n",
       "PlaceofBirth                0\n",
       "StageID                     0\n",
       "GradeID                     0\n",
       "SectionID                   0\n",
       "Topic                       0\n",
       "Semester                    0\n",
       "Relation                    0\n",
       "raisedhands                 0\n",
       "VisITedResources            0\n",
       "AnnouncementsView           0\n",
       "Discussion                  0\n",
       "ParentAnsweringSurvey       0\n",
       "ParentschoolSatisfaction    0\n",
       "StudentAbsenceDays          0\n",
       "Class                       0\n",
       "dtype: int64"
      ]
     },
     "execution_count": 14,
     "metadata": {},
     "output_type": "execute_result"
    }
   ],
   "source": [
    "#check for missing values in dataset\n",
    "data.isnull().sum()"
   ]
  },
  {
   "cell_type": "code",
   "execution_count": 19,
   "id": "96472901-7269-441f-b1e6-13cb63f9d357",
   "metadata": {},
   "outputs": [
    {
     "data": {
      "image/png": "[encoded data removed]",
      "text/plain": [
       "<Figure size 640x480 with 1 Axes>"
      ]
     },
     "metadata": {},
     "output_type": "display_data"
    }
   ],
   "source": [
    "#Visualize Outliers\n",
    "# Boxplot for 'raisedhands'\n",
    "sns.boxplot(data ,x = 'raisedhands')\n",
    "plt.title('Boxplot of Raised Hands')\n",
    "plt.show()"
   ]
  },
  {
   "cell_type": "code",
   "execution_count": 20,
   "id": "3f8ef06f-1f6d-4be6-88b9-d7b319f85921",
   "metadata": {},
   "outputs": [],
   "source": [
    "#handle outliers\n",
    "# Cap outliers using IQR (Interquartile Range)\n",
    "Q1 = data['raisedhands'].quantile(0.25)\n",
    "Q3 = data['raisedhands'].quantile(0.75)\n",
    "IQR = Q3 - Q1\n",
    "lower_bound = Q1 - 1.5 * IQR\n",
    "upper_bound = Q3 + 1.5 * IQR"
   ]
  },
  {
   "cell_type": "code",
   "execution_count": 21,
   "id": "c5252a1a-09f0-46fd-8c54-5efb63e4dcab",
   "metadata": {},
   "outputs": [],
   "source": [
    "# Cap values outside bounds\n",
    "data['raisedhands'] = np.clip(data['raisedhands'], lower_bound, upper_bound)"
   ]
  },
  {
   "cell_type": "code",
   "execution_count": 22,
   "id": "f520c6c5-0a41-449a-8c64-4e44c24c5569",
   "metadata": {},
   "outputs": [],
   "source": [
    "# Apply PowerTransformer to 'raisedhands'\n",
    "transformer = PowerTransformer(method='yeo-johnson')\n",
    "data['raisedhands'] = transformer.fit_transform(data[['raisedhands']])"
   ]
  },
  {
   "cell_type": "code",
   "execution_count": 25,
   "id": "302aef2c-0bfe-409e-b0d5-7caab1e5a21e",
   "metadata": {},
   "outputs": [],
   "source": [
    "# Save the cleaned dataset to a CSV file\n",
    "data.to_csv(\"cleaned_academics.csv\", index=False)"
   ]
  },
  {
   "cell_type": "code",
   "execution_count": null,
   "id": "4a895d64-0de6-41ce-89d4-e4aea4751115",
   "metadata": {},
   "outputs": [],
   "source": []
  }
 ],
 "metadata": {
  "kernelspec": {
   "display_name": "Python 3 (ipykernel)",
   "language": "python",
   "name": "python3"
  },
  "language_info": {
   "codemirror_mode": {
    "name": "ipython",
    "version": 3
   },
   "file_extension": ".py",
   "mimetype": "text/x-python",
   "name": "python",
   "nbconvert_exporter": "python",
   "pygments_lexer": "ipython3",
   "version": "3.12.7"
  }
 },
 "nbformat": 4,
 "nbformat_minor": 5
}
