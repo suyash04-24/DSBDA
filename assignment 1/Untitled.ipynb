{
 "cells": [
  {
   "cell_type": "markdown",
   "id": "4a8f7396-a658-48d3-9e21-4a6c28c68e7a",
   "metadata": {},
   "source": [
    "### ASSIGNMENT - 1"
   ]
  },
  {
   "cell_type": "code",
   "execution_count": 1,
   "id": "118a9955-ef30-43f3-bf52-694bde81ffdc",
   "metadata": {},
   "outputs": [],
   "source": [
    "#import required libraries\n",
    "import pandas as pd\n",
    "import numpy as np\n",
    "from sklearn.preprocessing import MinMaxScaler, LabelEncoder\n",
    "import matplotlib.pyplot as plt\n",
    "import seaborn as sns"
   ]
  },
  {
   "cell_type": "code",
   "execution_count": 2,
   "id": "a4a22c28-5c23-47e3-84ef-9babfdd16713",
   "metadata": {},
   "outputs": [],
   "source": [
    "#load the dataset\n",
    "file_path=\"uber.csv\"\n",
    "uber_data=pd.read_csv(file_path)\n"
   ]
  },
  {
   "cell_type": "code",
   "execution_count": 3,
   "id": "5912b939-dd28-47b3-b9b9-8cba6f07a93d",
   "metadata": {},
   "outputs": [
    {
     "name": "stdout",
     "output_type": "stream",
     "text": [
      "   Unnamed: 0      key  fare_amount          pickup_datetime  \\\n",
      "0    24238194  52:06.0          7.5  2015-05-07 19:52:06 UTC   \n",
      "1    27835199  04:56.0          7.7  2009-07-17 20:04:56 UTC   \n",
      "2    44984355  45:00.0         12.9  2009-08-24 21:45:00 UTC   \n",
      "3    25894730  22:21.0          5.3  2009-06-26 08:22:21 UTC   \n",
      "4    17610152  47:00.0         16.0  2014-08-28 17:47:00 UTC   \n",
      "\n",
      "   pickup_longitude  pickup_latitude  dropoff_longitude  dropoff_latitude  \\\n",
      "0        -73.999817        40.738354         -73.999512         40.723217   \n",
      "1        -73.994355        40.728225         -73.994710         40.750325   \n",
      "2        -74.005043        40.740770         -73.962565         40.772647   \n",
      "3        -73.976124        40.790844         -73.965316         40.803349   \n",
      "4        -73.925023        40.744085         -73.973082         40.761247   \n",
      "\n",
      "   passenger_count  \n",
      "0                1  \n",
      "1                1  \n",
      "2                1  \n",
      "3                3  \n",
      "4                5  \n"
     ]
    }
   ],
   "source": [
    "#check the first few rows\n",
    "print(uber_data.head())"
   ]
  },
  {
   "cell_type": "code",
   "execution_count": 4,
   "id": "e683ebfc-c2f8-4aae-ae3b-07195649b736",
   "metadata": {},
   "outputs": [
    {
     "name": "stdout",
     "output_type": "stream",
     "text": [
      "Dimensions: (200000, 9)\n"
     ]
    }
   ],
   "source": [
    "#check the shape of the dataset\n",
    "print(\"Dimensions:\",uber_data.shape)"
   ]
  },
  {
   "cell_type": "code",
   "execution_count": 5,
   "id": "40cfc45c-092a-43c5-a77f-137c8f50e4bb",
   "metadata": {},
   "outputs": [
    {
     "name": "stdout",
     "output_type": "stream",
     "text": [
      "Columns and Types:\n",
      " Unnamed: 0             int64\n",
      "key                   object\n",
      "fare_amount          float64\n",
      "pickup_datetime       object\n",
      "pickup_longitude     float64\n",
      "pickup_latitude      float64\n",
      "dropoff_longitude    float64\n",
      "dropoff_latitude     float64\n",
      "passenger_count        int64\n",
      "dtype: object\n"
     ]
    }
   ],
   "source": [
    "#get column names and Types\n",
    "print(\"Columns and Types:\\n\",uber_data.dtypes)"
   ]
  },
  {
   "cell_type": "code",
   "execution_count": 6,
   "id": "93283cde-58ad-4c45-a300-9715ba14e29e",
   "metadata": {},
   "outputs": [
    {
     "data": {
      "text/plain": [
       "Unnamed: 0           0\n",
       "key                  0\n",
       "fare_amount          0\n",
       "pickup_datetime      0\n",
       "pickup_longitude     0\n",
       "pickup_latitude      0\n",
       "dropoff_longitude    1\n",
       "dropoff_latitude     1\n",
       "passenger_count      0\n",
       "dtype: int64"
      ]
     },
     "execution_count": 6,
     "metadata": {},
     "output_type": "execute_result"
    }
   ],
   "source": [
    "#check for missing values\n",
    "uber_data.isnull().sum()"
   ]
  },
  {
   "cell_type": "code",
   "execution_count": 7,
   "id": "0b6431fe-6200-4297-b37a-b0401d744d17",
   "metadata": {},
   "outputs": [],
   "source": [
    "#drop rows with missing values\n",
    "uber_data.dropna(inplace=True)"
   ]
  },
  {
   "cell_type": "code",
   "execution_count": 8,
   "id": "ff7e98ed-135c-4c15-8872-0645d8aa0ea6",
   "metadata": {},
   "outputs": [
    {
     "data": {
      "text/plain": [
       "Unnamed: 0           0\n",
       "key                  0\n",
       "fare_amount          0\n",
       "pickup_datetime      0\n",
       "pickup_longitude     0\n",
       "pickup_latitude      0\n",
       "dropoff_longitude    0\n",
       "dropoff_latitude     0\n",
       "passenger_count      0\n",
       "dtype: int64"
      ]
     },
     "execution_count": 8,
     "metadata": {},
     "output_type": "execute_result"
    }
   ],
   "source": [
    "#check missing values rows are drop or not?\n",
    "uber_data.isnull().sum()"
   ]
  },
  {
   "cell_type": "code",
   "execution_count": 9,
   "id": "0b7cca72-0a76-42ba-b9ef-cb3f191ab139",
   "metadata": {},
   "outputs": [
    {
     "name": "stdout",
     "output_type": "stream",
     "text": [
      "         Unnamed: 0    fare_amount  pickup_longitude  pickup_latitude  \\\n",
      "count  1.999990e+05  199999.000000     199999.000000    199999.000000   \n",
      "mean   2.771248e+07      11.359892        -72.527631        39.935881   \n",
      "std    1.601386e+07       9.901760         11.437815         7.720558   \n",
      "min    1.000000e+00     -52.000000      -1340.648410       -74.015515   \n",
      "25%    1.382534e+07       6.000000        -73.992065        40.734796   \n",
      "50%    2.774524e+07       8.500000        -73.981823        40.752592   \n",
      "75%    4.155535e+07      12.500000        -73.967154        40.767158   \n",
      "max    5.542357e+07     499.000000         57.418457      1644.421482   \n",
      "\n",
      "       dropoff_longitude  dropoff_latitude  passenger_count  \n",
      "count      199999.000000     199999.000000    199999.000000  \n",
      "mean          -72.525292         39.923890         1.684543  \n",
      "std            13.117408          6.794829         1.385995  \n",
      "min         -3356.666300       -881.985513         0.000000  \n",
      "25%           -73.991407         40.733823         1.000000  \n",
      "50%           -73.980093         40.753042         1.000000  \n",
      "75%           -73.963659         40.768001         2.000000  \n",
      "max          1153.572603        872.697628       208.000000  \n"
     ]
    }
   ],
   "source": [
    "#get statistical summary\n",
    "print(uber_data.describe())"
   ]
  },
  {
   "cell_type": "code",
   "execution_count": 10,
   "id": "a397d9bf-6b88-4c09-b6a8-04ef2a950f57",
   "metadata": {},
   "outputs": [],
   "source": [
    "#Check and Convert Data Types\n",
    "#Convert pickup_datetime to datetime type\n",
    "uber_data['pickup_datetime']=pd.to_datetime(uber_data['pickup_datetime'])"
   ]
  },
  {
   "cell_type": "code",
   "execution_count": 11,
   "id": "68a11c1c-791f-4207-bc36-5b98d98e0f07",
   "metadata": {},
   "outputs": [
    {
     "name": "stdout",
     "output_type": "stream",
     "text": [
      "Unnamed: 0                         int64\n",
      "key                               object\n",
      "fare_amount                      float64\n",
      "pickup_datetime      datetime64[ns, UTC]\n",
      "pickup_longitude                 float64\n",
      "pickup_latitude                  float64\n",
      "dropoff_longitude                float64\n",
      "dropoff_latitude                 float64\n",
      "passenger_count                    int64\n",
      "dtype: object\n"
     ]
    }
   ],
   "source": [
    "#Confirm data type\n",
    "print(uber_data.dtypes)"
   ]
  },
  {
   "cell_type": "code",
   "execution_count": 12,
   "id": "fe2cb2e5-aa9e-4be8-a43f-f2801836d3d3",
   "metadata": {},
   "outputs": [],
   "source": [
    "#Apply MinMaxScaler to numerical Columns\n",
    "scaler=MinMaxScaler()\n",
    "numerical_columns= ['fare_amount', 'pickup_longitude', 'pickup_latitude',\n",
    "'dropoff_longitude', 'dropoff_latitude']\n",
    "uber_data[numerical_columns] =scaler.fit_transform(uber_data[numerical_columns])"
   ]
  },
  {
   "cell_type": "code",
   "execution_count": 13,
   "id": "c5f4048f-31d2-466d-a59d-0d4b93d553e0",
   "metadata": {},
   "outputs": [],
   "source": [
    "# Apply LabelEncoder to categorical columns\n",
    "encoder = LabelEncoder()\n",
    "uber_data['key'] = encoder.fit_transform(uber_data['key'])"
   ]
  },
  {
   "cell_type": "code",
   "execution_count": 14,
   "id": "fead206d-9c56-4641-8e0e-a66d3e966b05",
   "metadata": {},
   "outputs": [],
   "source": [
    "# Save the processed dataset to a CSV file\n",
    "uber_data.to_csv(\"processed_uber.csv\", index=False)"
   ]
  },
  {
   "cell_type": "code",
   "execution_count": null,
   "id": "25b3faad-9895-4082-a169-e73f5df6c7f8",
   "metadata": {},
   "outputs": [],
   "source": []
  }
 ],
 "metadata": {
  "kernelspec": {
   "display_name": "Python 3 (ipykernel)",
   "language": "python",
   "name": "python3"
  },
  "language_info": {
   "codemirror_mode": {
    "name": "ipython",
    "version": 3
   },
   "file_extension": ".py",
   "mimetype": "text/x-python",
   "name": "python",
   "nbconvert_exporter": "python",
   "pygments_lexer": "ipython3",
   "version": "3.12.7"
  }
 },
 "nbformat": 4,
 "nbformat_minor": 5
}
