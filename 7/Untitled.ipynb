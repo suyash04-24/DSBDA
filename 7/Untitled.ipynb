{
 "cells": [
  {
   "cell_type": "markdown",
   "id": "3215a321-1cb2-44d2-876e-d5165b46cb0a",
   "metadata": {},
   "source": [
    "### ASSIGNMENT - 7"
   ]
  },
  {
   "cell_type": "code",
   "execution_count": 10,
   "id": "1e7e1e5b-0643-4e6f-9faa-6bafa4eb513f",
   "metadata": {},
   "outputs": [],
   "source": [
    "import numpy\n",
    "import scipy\n",
    "import sklearn\n",
    "import nltk"
   ]
  },
  {
   "cell_type": "code",
   "execution_count": 3,
   "id": "22159e23-d397-4cd2-8c78-549ba41d1cee",
   "metadata": {},
   "outputs": [],
   "source": [
    "document = \"Natural Language Processing is a fascinating field of AI. NLP helps machines understand human language.\""
   ]
  },
  {
   "cell_type": "code",
   "execution_count": 4,
   "id": "6707a894-2bc7-4146-b657-3135977a730e",
   "metadata": {},
   "outputs": [
    {
     "name": "stdout",
     "output_type": "stream",
     "text": [
      "Tokenized Words: ['Natural', 'Language', 'Processing', 'is', 'a', 'fascinating', 'field', 'of', 'AI', '.', 'NLP', 'helps', 'machines', 'understand', 'human', 'language', '.']\n"
     ]
    }
   ],
   "source": [
    "from nltk.tokenize import word_tokenize\n",
    "\n",
    "tokens = word_tokenize(document)\n",
    "print(\"Tokenized Words:\", tokens)"
   ]
  },
  {
   "cell_type": "code",
   "execution_count": 5,
   "id": "35ad97d2-5d7f-4725-a2fb-343d8a35bb67",
   "metadata": {},
   "outputs": [
    {
     "name": "stdout",
     "output_type": "stream",
     "text": [
      "POS Tags: [('Natural', 'JJ'), ('Language', 'NNP'), ('Processing', 'NNP'), ('is', 'VBZ'), ('a', 'DT'), ('fascinating', 'JJ'), ('field', 'NN'), ('of', 'IN'), ('AI', 'NNP'), ('.', '.'), ('NLP', 'NNP'), ('helps', 'VBZ'), ('machines', 'NNS'), ('understand', 'JJ'), ('human', 'JJ'), ('language', 'NN'), ('.', '.')]\n"
     ]
    }
   ],
   "source": [
    "pos_tags = nltk.pos_tag(tokens)\n",
    "print(\"POS Tags:\", pos_tags)"
   ]
  },
  {
   "cell_type": "code",
   "execution_count": 6,
   "id": "adc0b1be-d641-47e6-b663-1b34f8fd4230",
   "metadata": {},
   "outputs": [
    {
     "name": "stdout",
     "output_type": "stream",
     "text": [
      "After Stop Words Removal: ['Natural', 'Language', 'Processing', 'fascinating', 'field', 'AI', '.', 'NLP', 'helps', 'machines', 'understand', 'human', 'language', '.']\n"
     ]
    }
   ],
   "source": [
    "from nltk.corpus import stopwords\n",
    "\n",
    "stop_words = set(stopwords.words('english'))\n",
    "filtered_tokens = [word for word in tokens if word.lower() not in stop_words]\n",
    "print(\"After Stop Words Removal:\", filtered_tokens)"
   ]
  },
  {
   "cell_type": "code",
   "execution_count": 7,
   "id": "e2ed31a7-2d51-46f2-bca6-4e07fc0ef745",
   "metadata": {},
   "outputs": [
    {
     "name": "stdout",
     "output_type": "stream",
     "text": [
      "Stemmed Words: ['natur', 'languag', 'process', 'fascin', 'field', 'ai', '.', 'nlp', 'help', 'machin', 'understand', 'human', 'languag', '.']\n",
      "Lemmatized Words: ['Natural', 'Language', 'Processing', 'fascinating', 'field', 'AI', '.', 'NLP', 'help', 'machine', 'understand', 'human', 'language', '.']\n"
     ]
    }
   ],
   "source": [
    "from nltk.stem import PorterStemmer, WordNetLemmatizer\n",
    "\n",
    "stemmer = PorterStemmer()\n",
    "lemmatizer = WordNetLemmatizer()\n",
    "\n",
    "stemmed = [stemmer.stem(word) for word in filtered_tokens]\n",
    "lemmatized = [lemmatizer.lemmatize(word) for word in filtered_tokens]\n",
    "\n",
    "print(\"Stemmed Words:\", stemmed)\n",
    "print(\"Lemmatized Words:\", lemmatized)"
   ]
  },
  {
   "cell_type": "code",
   "execution_count": 8,
   "id": "5555f9fe-63e0-4d6a-9387-232618f82227",
   "metadata": {},
   "outputs": [
    {
     "name": "stdout",
     "output_type": "stream",
     "text": [
      "     ai  fascinating  field  helps  human    is  language  machines  natural  \\\n",
      "0  0.25         0.25   0.25   0.25   0.25  0.25       0.5      0.25     0.25   \n",
      "1  0.25         0.25   0.25   0.25   0.25  0.25       0.5      0.25     0.25   \n",
      "\n",
      "    nlp    of  processing  understand  \n",
      "0  0.25  0.25        0.25        0.25  \n",
      "1  0.25  0.25        0.25        0.25  \n"
     ]
    }
   ],
   "source": [
    "from sklearn.feature_extraction.text import TfidfVectorizer\n",
    "\n",
    "# Using the same doc twice just to simulate multiple documents for IDF\n",
    "documents = [\n",
    "    \"Natural Language Processing is a fascinating field of AI. NLP helps machines understand human language.\",\n",
    "    \"Natural Language Processing is a fascinating field of AI. NLP helps machines understand human language.\"\n",
    "]\n",
    "\n",
    "tfidf_vectorizer = TfidfVectorizer()\n",
    "tfidf_matrix = tfidf_vectorizer.fit_transform(documents)\n",
    "\n",
    "# Print TF-IDF scores\n",
    "feature_names = tfidf_vectorizer.get_feature_names_out()\n",
    "dense = tfidf_matrix.todense()\n",
    "denselist = dense.tolist()\n",
    "\n",
    "import pandas as pd\n",
    "df = pd.DataFrame(denselist, columns=feature_names)\n",
    "print(df)"
   ]
  },
  {
   "cell_type": "code",
   "execution_count": 11,
   "id": "6359e88b-3469-4616-92d5-561ffbab8287",
   "metadata": {},
   "outputs": [
    {
     "data": {
      "image/png": "[encoded data removed]",
      "text/plain": [
       "<Figure size 640x480 with 1 Axes>"
      ]
     },
     "metadata": {},
     "output_type": "display_data"
    }
   ],
   "source": [
    "import matplotlib.pyplot as plt\n",
    "import numpy as np\n",
    "\n",
    "# Example TF-IDF scores \n",
    "terms = ['term1', 'term2', 'term3', 'term4', 'term5']\n",
    "tfidf_scores = [0.75, 0.85, 0.95, 0.65, 0.80]\n",
    "\n",
    "# Sort terms based on TF-IDF scores in descending order\n",
    "sorted_indices = np.argsort(tfidf_scores)[::-1]\n",
    "sorted_terms = np.array(terms)[sorted_indices]\n",
    "sorted_scores = np.array(tfidf_scores)[sorted_indices]\n",
    "\n",
    "# Plotting\n",
    "plt.bar(sorted_terms, sorted_scores, color='skyblue')\n",
    "plt.xlabel('Terms')\n",
    "plt.ylabel('TF-IDF Score')\n",
    "plt.title('Top 5 TF-IDF Scores')\n",
    "plt.show()\n"
   ]
  },
  {
   "cell_type": "code",
   "execution_count": null,
   "id": "5e5416fa-db82-4faf-8fbd-e2754db5ca9b",
   "metadata": {},
   "outputs": [],
   "source": []
  }
 ],
 "metadata": {
  "kernelspec": {
   "display_name": "Python 3 (ipykernel)",
   "language": "python",
   "name": "python3"
  },
  "language_info": {
   "codemirror_mode": {
    "name": "ipython",
    "version": 3
   },
   "file_extension": ".py",
   "mimetype": "text/x-python",
   "name": "python",
   "nbconvert_exporter": "python",
   "pygments_lexer": "ipython3",
   "version": "3.12.7"
  }
 },
 "nbformat": 4,
 "nbformat_minor": 5
}
